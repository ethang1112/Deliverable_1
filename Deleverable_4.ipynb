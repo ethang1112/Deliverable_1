{
  "nbformat": 4,
  "nbformat_minor": 0,
  "metadata": {
    "colab": {
      "provenance": [],
      "authorship_tag": "ABX9TyMUok9hVpexYurIEUpTf2Wu"
    },
    "kernelspec": {
      "name": "python3",
      "display_name": "Python 3"
    },
    "language_info": {
      "name": "python"
    }
  },
  "cells": [
    {
      "cell_type": "code",
      "execution_count": 10,
      "metadata": {
        "id": "ZbA41KycoAEQ"
      },
      "outputs": [],
      "source": [
        "import numpy as np\n",
        "import random"
      ]
    },
    {
      "cell_type": "code",
      "source": [
        "def rand_list(x):\n",
        "    list1 = []\n",
        "    for i in range(x):\n",
        "        list1.append(random.randint(10,50))\n",
        "    return list1"
      ],
      "metadata": {
        "id": "4yX74x_poC8e"
      },
      "execution_count": 57,
      "outputs": []
    },
    {
      "cell_type": "code",
      "source": [
        "def sum_list(list1):\n",
        "    return sum(list1)"
      ],
      "metadata": {
        "id": "IVD8rY0NoSAG"
      },
      "execution_count": 58,
      "outputs": []
    },
    {
      "cell_type": "code",
      "source": [
        "while True:\n",
        "    user_entry = int(input(\"Enter an integer between 5 and 15: \"))\n",
        "    if user_entry >= 5 and user_entry <= 15:\n",
        "        break"
      ],
      "metadata": {
        "colab": {
          "base_uri": "https://localhost:8080/"
        },
        "id": "MuWOz-9RoUFk",
        "outputId": "723c846c-009f-4ad8-dd6f-05a2a527723c"
      },
      "execution_count": 59,
      "outputs": [
        {
          "name": "stdout",
          "output_type": "stream",
          "text": [
            "Enter an integer between 5 and 15: 7\n"
          ]
        }
      ]
    },
    {
      "cell_type": "code",
      "source": [
        "list2 = rand_list(user_entry)\n",
        "print(\"The elements of the arrays are: \", list2)"
      ],
      "metadata": {
        "colab": {
          "base_uri": "https://localhost:8080/"
        },
        "id": "hcfXbEllpaEU",
        "outputId": "9cd62176-53a8-47cb-af11-0890c1af3e5c"
      },
      "execution_count": 60,
      "outputs": [
        {
          "output_type": "stream",
          "name": "stdout",
          "text": [
            "The elements of the arrays are:  [33, 10, 36, 42, 10, 32, 38]\n"
          ]
        }
      ]
    },
    {
      "cell_type": "code",
      "source": [
        "list_sum = sum_list(list2)\n",
        "print(\"The sum is: \" , list_sum)"
      ],
      "metadata": {
        "colab": {
          "base_uri": "https://localhost:8080/"
        },
        "id": "bScSOoQUxoYz",
        "outputId": "7774047a-0ca1-47bd-ab3c-5aa7b1b17568"
      },
      "execution_count": 61,
      "outputs": [
        {
          "output_type": "stream",
          "name": "stdout",
          "text": [
            "The sum is:  201\n"
          ]
        }
      ]
    }
  ]
}